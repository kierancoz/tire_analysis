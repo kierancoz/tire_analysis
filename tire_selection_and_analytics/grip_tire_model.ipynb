{
 "cells": [
  {
   "cell_type": "code",
   "execution_count": 12,
   "source": [
    "import scipy.io as sio\r\n",
    "%matplotlib inline\r\n",
    "import matplotlib.pyplot as plt\r\n",
    "from mpl_toolkits.mplot3d import Axes3D\r\n",
    "import pandas as pd\r\n",
    "import numpy as np\r\n",
    "import copy\r\n",
    "\r\n",
    "import sys\r\n",
    "sys.path.append(\"../\")\r\n",
    "import data_helpers"
   ],
   "outputs": [],
   "metadata": {}
  },
  {
   "cell_type": "code",
   "execution_count": 13,
   "source": [
    "df = data_helpers.import_data(sio.loadmat(\"../tire_data/processed_data/braking_2021_rears.mat\"))"
   ],
   "outputs": [],
   "metadata": {}
  },
  {
   "cell_type": "code",
   "execution_count": null,
   "source": [
    "variable_sweeps = {\"load\" : {\"sweep\" : np.array([-250, -200, -150, -50]) / 0.224809, \"label\" : \"FZ\" },\r\n",
    "            \"camber\" : {\"sweep\" : np.array([0, 2, 4]), \"label\" : \"IA\"},\r\n",
    "            \"pressure\" : {\"sweep\" : np.array([8, 10, 12, 14]) * 6.89476, \"label\" : \"P\"},\r\n",
    "            \"velocity\" : {\"sweep\" : np.array([25]) * 1.60934, \"label\" : \"V\"},\r\n",
    "            \"slip\" : {\"sweep\" : np.array([0, -3, -6]), \"label\" : \"SA\"}}"
   ],
   "outputs": [],
   "metadata": {}
  },
  {
   "cell_type": "code",
   "execution_count": 26,
   "source": [
    "no_slip_angle = df[((df[\"slip\"] == 0) & (df[\"pressure\"] == 12*6.89476) & (df[\"camber\"] == 0))]\r\n",
    "#plt.plot(df[\"FZ\"], df[\"FY\"])\r\n",
    "\r\n",
    "for x in variable_sweeps[\"load\"][\"sweep\"]:\r\n",
    "    max_output = df[df[\"load\"] == x][\"FX\"].max()\r\n",
    "    max_out = df[df[\"FX\"] == max_output]\r\n",
    "    print(max_out[\"FX\"]*2/3/max_out[\"FZ\"], x)\r\n"
   ],
   "outputs": [
    {
     "output_type": "stream",
     "name": "stdout",
     "text": [
      "1330   -1.974586\n",
      "dtype: float64 -1112.0551223483046\n",
      "1998   -2.020094\n",
      "dtype: float64 -889.6440978786436\n",
      "2751   -2.066519\n",
      "dtype: float64 -667.2330734089827\n",
      "33813   -2.180381\n",
      "dtype: float64 -222.4110244696609\n"
     ]
    }
   ],
   "metadata": {}
  }
 ],
 "metadata": {
  "orig_nbformat": 4,
  "language_info": {
   "name": "python",
   "version": "3.7.4",
   "mimetype": "text/x-python",
   "codemirror_mode": {
    "name": "ipython",
    "version": 3
   },
   "pygments_lexer": "ipython3",
   "nbconvert_exporter": "python",
   "file_extension": ".py"
  },
  "kernelspec": {
   "name": "python3",
   "display_name": "Python 3.7.4 64-bit"
  },
  "interpreter": {
   "hash": "7aab9084ceaadec9751c46267bb0962ae9717eebe939ec4dca00e63ab65e0fb6"
  }
 },
 "nbformat": 4,
 "nbformat_minor": 2
}