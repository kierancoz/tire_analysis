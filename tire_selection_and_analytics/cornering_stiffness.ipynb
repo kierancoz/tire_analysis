{
 "cells": [
  {
   "cell_type": "code",
   "execution_count": 6,
   "metadata": {},
   "outputs": [],
   "source": [
    "%matplotlib inline\n",
    "import matplotlib.pyplot as plt\n",
    "import numpy as np"
   ]
  },
  {
   "cell_type": "code",
   "execution_count": 7,
   "metadata": {},
   "outputs": [],
   "source": [
    "tire_matrix = {\"hoosier_LCO-16x6_10x6\":{\"CS\":[115,108,99,57,115,83],\"LOAD\":[250,200,150,50,250,100]},\n",
    "                \"hoosier_r25b-16x6_10x6\":{\"CS\":[115,108,99,57,115,83],\"LOAD\":[250,200,150,50,250,100]}, # DONE\n",
    "                \"hoosier_LCO-16x7-5_10x7\":{\"CS\":[140,126,107,52,142,82],\"LOAD\":[250,200,150,50,250,100]},\n",
    "                \"hoosier_r25b-16x7-5_10x7\":{\"CS\":[135,126,110,57,134,87],\"LOAD\":[250,200,150,50,250,100]},\n",
    "                \"hoosier_LCO-18x6_10x6\":{\"CS\":[110,106,98,55,110,82],\"LOAD\":[250,200,150,50,250,100]},\n",
    "                \"hoosier_r25b-18x6_10x6\":{\"CS\":[118,114,106,63,120,91],\"LOAD\":[250,200,150,50,250,100]}, # DONE\n",
    "                \"hoosier_LCO-18x7-5_10x7\":{\"CS\":[140,126,107,52,142,82],\"LOAD\":[250,200,150,50,250,100]},\n",
    "                \"hoosier_r25b-18x7-5_10x7\":{\"CS\":[155,141,125,75,152,102],\"LOAD\":[250,200,150,50,250,100]}, # TODO\n",
    "                \"hoosier_LCO-16x6_10x7\":{\"CS\":[110,106,98,55,110,82],\"LOAD\":[250,200,150,50,250,100]},\n",
    "                \"hoosier_r25b-16x6_10x7\":{\"CS\":[115,109,98,53,115,79],\"LOAD\":[250,200,150,50,250,100]},\n",
    "                \"hoosier_LCO-16x7-5_10x8\":{\"CS\":[140,126,107,52,142,82],\"LOAD\":[250,200,150,50,250,100]},\n",
    "                \"hoosier_r25b-16x7-5_10x8\":{\"CS\":[156,141,119,64,157,95],\"LOAD\":[250,200,150,50,250,100]}, #DONE\n",
    "                \"hoosier_LCO-18x6_10x7\":{\"CS\":[110,106,98,55,110,82],\"LOAD\":[250,200,150,50,250,100]},\n",
    "                \"hoosier_r25b-18x6_10x7\":{\"CS\":[140,130,116,64,142,93],\"LOAD\":[250,200,150,50,250,100]}, # DONE\n",
    "                \"hoosier_LCO-18x7-5_10x8\":{\"CS\":[],\"LOAD\":[250,200,150,50,250,100]}, #NO DATA\n",
    "                \"hoosier_r25b-18x7-5_10x8\":{\"CS\":[178,158,136,76,176,107],\"LOAD\":[250,200,150,50,250,100]} # DONE\n",
    "                }"
   ]
  },
  {
   "cell_type": "code",
   "execution_count": 23,
   "metadata": {},
   "outputs": [
    {
     "ename": "SyntaxError",
     "evalue": "invalid syntax (<ipython-input-23-e5f98b474464>, line 8)",
     "output_type": "error",
     "traceback": [
      "\u001b[1;36m  File \u001b[1;32m\"<ipython-input-23-e5f98b474464>\"\u001b[1;36m, line \u001b[1;32m8\u001b[0m\n\u001b[1;33m    7ront = tire_matrix[\"hoosier_r25b-16x7-5_10x7\"][\"CS\"]\u001b[0m\n\u001b[1;37m        ^\u001b[0m\n\u001b[1;31mSyntaxError\u001b[0m\u001b[1;31m:\u001b[0m invalid syntax\n"
     ]
    }
   ],
   "source": [
    "for name,tire in tire_matrix.items():\n",
    "    if len(tire[\"CS\"]) > 0:\n",
    "        plt.scatter(tire[\"LOAD\"], tire[\"CS\"], label = name)\n",
    "plt.ylabel(\"Cornering Stiffness (lbf/deg)\")\n",
    "plt.grid()\n",
    "plt.xlabel(\"Normal Load (lbf)\")\n",
    "\n",
    "front = tire_matrix[\"hoosier_r25b-16x7-5_10x7\"][\"CS\"]\n",
    "rear = tire_matrix[\"hoosier_r25b-18x7-5_10x7\"][\"CS\"]\n",
    "results = [rear[i]/(front[i]+rear[i]) for i in range(len(front))]\n",
    "print(['{:.3f}'.format(x) for x in results])\n",
    "print(sum(results)/len(results))\n",
    "print(front)\n",
    "print(rear)\n",
    "#plt.legend()"
   ]
  }
 ],
 "metadata": {
  "interpreter": {
   "hash": "7aab9084ceaadec9751c46267bb0962ae9717eebe939ec4dca00e63ab65e0fb6"
  },
  "kernelspec": {
   "display_name": "Python 3.7.4 64-bit",
   "name": "python3"
  },
  "language_info": {
   "codemirror_mode": {
    "name": "ipython",
    "version": 3
   },
   "file_extension": ".py",
   "mimetype": "text/x-python",
   "name": "python",
   "nbconvert_exporter": "python",
   "pygments_lexer": "ipython3",
   "version": "3.7.4"
  },
  "orig_nbformat": 4
 },
 "nbformat": 4,
 "nbformat_minor": 2
}
