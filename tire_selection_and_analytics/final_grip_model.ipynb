{
 "cells": [
  {
   "cell_type": "code",
   "execution_count": 40,
   "metadata": {},
   "outputs": [],
   "source": [
    "import scipy.io as sio\n",
    "%matplotlib inline\n",
    "import matplotlib.pyplot as plt\n",
    "from mpl_toolkits.mplot3d import Axes3D\n",
    "import pandas as pd\n",
    "import numpy as np\n",
    "import copy\n",
    "\n",
    "import sys\n",
    "sys.path.append(\"../\")\n",
    "import data_helpers"
   ]
  },
  {
   "cell_type": "code",
   "execution_count": 41,
   "metadata": {},
   "outputs": [],
   "source": [
    "tires = [\"r25b_16x7-5_10x8\",\"r25b_16x7-5_10x7\",\"r25b_18x6_10x7\",\"r25b_18x6_10x6\",\"r25b_16x6_10x7\",\"r25b_16x6_10x6\",\n",
    "        \"r25b_18x7-5_10x8\",\"r25b_18x7-5_10x7\", \"r25b_20-5x7_13x7\",\n",
    "        \"LCO_16x7-5_10x8\",\"LCO_16x7-5_10x7\",\"LCO_18x6_10x7\",\"LCO_18x6_10x6\",\"LCO_16x6_10x7\", \"LCO_16x6_10x6\",\n",
    "        \"LCO_18x7-5_10x8\",\"LCO_18x7-5_10x7\"]\n",
    "\n",
    "sweeps = [\"initial_default\", \"post_default\"]\n",
    "tire_coeffs = {}\n",
    "for tire in tires:\n",
    "    tire_coeffs[tire] = {sweep:{\"lateral_mus\":[], \"long_mus\":[], \"long_norms\":[], \"lat_norms\":[]} for sweep in sweeps}\n",
    "\n",
    "camber = 0 # default camber\n",
    "pressure = 12* 6.89476 # default pressure\n",
    "velocity = 25 * 1.60934 # default velocity\n",
    "long_slip_angle = 0 # default slip angle for long\n",
    "SA_cutoff = 10 # degrees, where slip occurs\n",
    "SR_cutoff = 0.1 # %, where slip occurs\n",
    "\n",
    "#load_lateral = np.array([-250, -200, -150, -100, -50]) / 0.224809\n",
    "#load_long = np.array([-250, -200, -150, -50]) / 0.224809\n",
    "\n",
    "# metric is something such as \"SL\" or \"SA\"\n",
    "# output is something such as \"NFX\" or \"NFY\"\n",
    "# lower is the absolute value lower bound of the metric\n",
    "def get_normal_mus(df, normal_loads, lower, metric, output):\n",
    "    return_mus = []\n",
    "    #print(normal_loads)\n",
    "    for x in normal_loads:\n",
    "        load_df = df[(df[\"load\"] == x) & ((df[metric] < -1*lower) | (df[metric] > lower))]\n",
    "        return_mus.append(load_df[output].abs().mean()*2/3)\n",
    "    return return_mus"
   ]
  },
  {
   "cell_type": "code",
   "execution_count": 42,
   "metadata": {},
   "outputs": [
    {
     "name": "stdout",
     "output_type": "stream",
     "text": [
      "Processed tire correctly: r25b_16x7-5_10x7\n",
      "Processed tire correctly: r25b_18x7-5_10x7\n",
      "Processed tire correctly: r25b_20-5x7_13x7\n"
     ]
    }
   ],
   "source": [
    "### LATERAL CALCS ###\n",
    "for tire in tires:\n",
    "    try:\n",
    "        initial = data_helpers.import_data(sio.loadmat(\"../tire_data/new_processed_data/cornering_hoosier_{0}_run1.mat\".format(tire)))\n",
    "    except:\n",
    "        # data hasnt been filtered yet (or doesnt exist)\n",
    "        continue\n",
    "    try:\n",
    "        post = data_helpers.import_data(sio.loadmat(\"../tire_data/new_processed_data/cornering_hoosier_{0}_run2.mat\".format(tire)))\n",
    "    except:\n",
    "        post = None\n",
    "\n",
    "    print(\"Processed tire correctly:\",tire)\n",
    "\n",
    "    df = initial\n",
    "    initial_df = df[((df[\"velocity\"] == velocity) & (df[\"pressure\"] == pressure) & (df[\"camber\"] == camber))]\n",
    "    initial_mus = get_normal_mus(initial_df, initial_df[\"load\"].unique(), SA_cutoff, \"SA\", \"NFY\")\n",
    "    tire_coeffs[tire][\"initial_default\"][\"lateral_mus\"] = initial_mus\n",
    "    tire_coeffs[tire][\"initial_default\"][\"lat_norms\"] = initial_df[\"load\"].unique()\n",
    "\n",
    "    # find if there is an post sweep\n",
    "    if post is not None:\n",
    "        df = post\n",
    "        post_df = df[((df[\"velocity\"] == velocity) & (df[\"pressure\"] == pressure) & (df[\"camber\"] == camber))]\n",
    "        post_mus = get_normal_mus(initial_df, post_df[\"load\"].unique(), SA_cutoff, \"SA\", \"NFY\")\n",
    "        tire_coeffs[tire][\"post_default\"][\"lateral_mus\"] = post_mus\n",
    "        tire_coeffs[tire][\"post_default\"][\"lat_norms\"] = post_df[\"load\"].unique()"
   ]
  },
  {
   "cell_type": "code",
   "execution_count": 48,
   "metadata": {},
   "outputs": [
    {
     "name": "stdout",
     "output_type": "stream",
     "text": [
      "r25b_16x7-5_10x7\n",
      "r25b_18x7-5_10x7\n",
      "r25b_20-5x7_13x7\n"
     ]
    }
   ],
   "source": [
    "### LONG CALCS ###\n",
    "for tire in tires:\n",
    "    try:\n",
    "        initial = data_helpers.import_data(sio.loadmat(\"../tire_data/new_processed_data/braking_hoosier_{0}_run1.mat\".format(tire)))\n",
    "    except:\n",
    "        try:\n",
    "            initial = data_helpers.import_data(sio.loadmat(\"../tire_data/new_processed_data/braking_hoosier_{0}_fabricated.mat\".format(tire)))\n",
    "        except:\n",
    "            # data hasnt been filtered yet (or doesnt exist)\n",
    "            continue\n",
    "    try:\n",
    "        post = data_helpers.import_data(sio.loadmat(\"../tire_data/new_processed_data/braking_hoosier_{0}_run2.mat\".format(tire)))\n",
    "    except:\n",
    "        post = None\n",
    "\n",
    "    print(tire)\n",
    "\n",
    "    df = initial\n",
    "    initial_df = df[((df[\"slip\"] == long_slip_angle) & (df[\"pressure\"] == pressure) & (df[\"camber\"] == camber))]\n",
    "    initial_mus = get_normal_mus(initial_df, initial_df[\"load\"].unique(), SR_cutoff, \"SL\", \"NFX\")\n",
    "    tire_coeffs[tire][\"initial_default\"][\"long_mus\"] = initial_mus\n",
    "    tire_coeffs[tire][\"initial_default\"][\"long_norms\"] = initial_df[\"load\"].unique()\n",
    "\n",
    "    # find if there is an post sweep\n",
    "    if post is not None:\n",
    "        df = post\n",
    "        post_df = df[((df[\"slip\"] == long_slip_angle) & (df[\"pressure\"] == pressure) & (df[\"camber\"] == camber))]\n",
    "        post_mus = get_normal_mus(initial_df, post_df[\"load\"].unique(), SR_cutoff, \"SL\", \"NFX\")\n",
    "        tire_coeffs[tire][\"post_default\"][\"long_mus\"] = post_mus\n",
    "        tire_coeffs[tire][\"post_default\"][\"long_norms\"] = post_df[\"load\"].unique()"
   ]
  },
  {
   "cell_type": "code",
   "execution_count": 44,
   "metadata": {},
   "outputs": [],
   "source": [
    "# for name,data in tire_coeffs.items():\n",
    "#     if len(data[\"initial_default\"][\"lateral_mus\"]) > 0 and len(data[\"initial_default\"][\"long_mus\"]) > 0 :\n",
    "#         la_mu = data[\"initial_default\"][\"lateral_mus\"][:3] + [data[\"initial_default\"][\"lateral_mus\"][4]]\n",
    "#         lo_mu = data[\"initial_default\"][\"long_mus\"]\n",
    "#         plt.scatter(la_mu, lo_mu, label = name)\n",
    "# plt.legend()\n",
    "# plt.xlabel(\"Lateral MU\")\n",
    "# plt.ylabel(\"Long MU\")\n",
    "# plt.title(\"Long MU vs Lateral MU\")\n",
    "# plt.grid()\n",
    "#print(tire_coeffs)"
   ]
  },
  {
   "cell_type": "code",
   "execution_count": 45,
   "metadata": {},
   "outputs": [
    {
     "name": "stdout",
     "output_type": "stream",
     "text": [
      "0.5265907874630249\n",
      "['1.584', '1.632', '1.695', '1.901', '1.772']\n"
     ]
    }
   ],
   "source": [
    "rear = tire_coeffs[\"r25b_18x7-5_10x7\"][\"initial_default\"][\"lateral_mus\"]\n",
    "front = tire_coeffs[\"r25b_16x7-5_10x7\"][\"initial_default\"][\"lateral_mus\"]\n",
    "print(sum(rear)/sum(rear+front))\n",
    "\n",
    "rear_1 = tire_coeffs[\"r25b_18x7-5_10x7\"][\"initial_default\"][\"long_mus\"]\n",
    "rear_2 = tire_coeffs[\"r25b_18x7-5_10x8\"][\"initial_default\"][\"long_mus\"]\n",
    "print(['{:.3f}'.format(x) for x in front])\n",
    "#rear_1[3]/rear_2[3]"
   ]
  },
  {
   "cell_type": "code",
   "execution_count": 46,
   "metadata": {},
   "outputs": [
    {
     "data": {
      "image/png": "[encoded data removed]",
      "text/plain": [
       "<Figure size 432x288 with 1 Axes>"
      ]
     },
     "metadata": {
      "needs_background": "light"
     },
     "output_type": "display_data"
    }
   ],
   "source": [
    "for name,data in tire_coeffs.items():\n",
    "    if len(data[\"initial_default\"][\"long_mus\"]) > 0 :\n",
    "        lo_mu = data[\"initial_default\"][\"long_mus\"]\n",
    "        lo_no = data[\"initial_default\"][\"long_norms\"]\n",
    "        plt.scatter(lo_no, lo_mu, label = name)\n",
    "plt.legend()\n",
    "plt.xlabel(\"Normal Load (N)\")\n",
    "plt.ylabel(\"Long MU\")\n",
    "plt.title(\"Long MU vs Normal Load\")\n",
    "plt.grid()\n",
    "plt.show()"
   ]
  },
  {
   "cell_type": "code",
   "execution_count": 47,
   "metadata": {},
   "outputs": [
    {
     "data": {
      "image/png": "[encoded data removed]",
      "text/plain": [
       "<Figure size 432x288 with 1 Axes>"
      ]
     },
     "metadata": {
      "needs_background": "light"
     },
     "output_type": "display_data"
    }
   ],
   "source": [
    "for name,data in tire_coeffs.items():\n",
    "    if len(data[\"initial_default\"][\"lateral_mus\"]) > 0 :\n",
    "        la_mu = data[\"initial_default\"][\"lateral_mus\"]\n",
    "        la_no = data[\"initial_default\"][\"lat_norms\"]\n",
    "        plt.scatter(la_no, la_mu, label = name)\n",
    "plt.legend()\n",
    "plt.xlabel(\"Normal Load (N)\")\n",
    "plt.ylabel(\"Lateral Mu\")\n",
    "plt.title(\"Lat MU vs Normal Load\")\n",
    "plt.grid()\n",
    "plt.show()"
   ]
  }
 ],
 "metadata": {
  "interpreter": {
   "hash": "1c7372b68b18fb8a72b58483b4629b4128484b5e1196553fcb420dfc259b3afc"
  },
  "kernelspec": {
   "display_name": "Python 3.8.3 64-bit ('base': conda)",
   "name": "python3"
  },
  "language_info": {
   "codemirror_mode": {
    "name": "ipython",
    "version": 3
   },
   "file_extension": ".py",
   "mimetype": "text/x-python",
   "name": "python",
   "nbconvert_exporter": "python",
   "pygments_lexer": "ipython3",
   "version": "3.8.3"
  },
  "orig_nbformat": 4
 },
 "nbformat": 4,
 "nbformat_minor": 2
}
