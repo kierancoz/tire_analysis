{
 "cells": [
  {
   "cell_type": "code",
   "execution_count": 48,
   "source": [
    "import scipy.io as sio\r\n",
    "%matplotlib inline\r\n",
    "import matplotlib.pyplot as plt\r\n",
    "from mpl_toolkits.mplot3d import Axes3D\r\n",
    "import pandas as pd\r\n",
    "import numpy as np\r\n",
    "import copy\r\n",
    "\r\n",
    "import sys\r\n",
    "sys.path.append(\"../\")\r\n",
    "import data_helpers"
   ],
   "outputs": [],
   "metadata": {}
  },
  {
   "cell_type": "code",
   "execution_count": 49,
   "source": [
    "tires = [\"r25b_16x7-5_10x8\",\"r25b_16x7-5_10x7\",\"r25b_18x6_10x7\",\"r25b_18x6_10x6\",\"r25b_16x6_10x7\",\"r25b_16x6_10x6\",\r\n",
    "        \"r25b_18x7-5_10x8\",\"r25b_18x7-5_10x7\",\r\n",
    "        \"LCO_16x7-5_10x8\",\"LCO_16x7-5_10x7\",\"LCO_18x6_10x7\",\"LCO_18x6_10x6\",\"LCO_16x6_10x7\", \"LCO_16x6_10x6\",\r\n",
    "        \"LCO_18x7-5_10x8\",\"LCO_18x7-5_10x7\"]\r\n",
    "\r\n",
    "sweeps = [\"initial_default\", \"post_default\"]\r\n",
    "tire_coeffs = {}\r\n",
    "for tire in tires:\r\n",
    "    tire_coeffs[tire] = {sweep:{\"lateral_mus\":[], \"long_mus\":[]} for sweep in sweeps}\r\n",
    "\r\n",
    "camber = 0 # default camber\r\n",
    "pressure = 12* 6.89476 # default pressure\r\n",
    "velocity = 25 * 1.60934 # default velocity\r\n",
    "long_slip_angle = 0 # default slip angle for long\r\n",
    "SA_cutoff = 10 # degrees, where slip occurs\r\n",
    "SR_cutoff = 0.1 # %, where slip occurs\r\n",
    "\r\n",
    "load_lateral = np.array([-250, -200, -150, -100, -50]) / 0.224809\r\n",
    "load_long = np.array([-250, -200, -150, -50]) / 0.224809\r\n",
    "\r\n",
    "# metric is something such as \"SL\" or \"SA\"\r\n",
    "# output is something such as \"NFX\" or \"NFY\"\r\n",
    "# lower is the absolute value lower bound of the metric\r\n",
    "def get_normal_mus(df, normal_loads, lower, metric, output):\r\n",
    "    return_mus = []\r\n",
    "    for x in normal_loads:\r\n",
    "        load_df = df[(df[\"load\"] == x) & ((df[metric] < -1*lower) | (df[metric] > lower))]\r\n",
    "        return_mus.append(load_df[output].abs().mean()*0.6)\r\n",
    "    return return_mus"
   ],
   "outputs": [],
   "metadata": {}
  },
  {
   "cell_type": "code",
   "execution_count": 50,
   "source": [
    "### LATERAL CALCS ###\r\n",
    "for tire in tires:\r\n",
    "    try:\r\n",
    "        df = data_helpers.import_data(sio.loadmat(\"../tire_data/processed_data/cornering_hoosier_{0}.mat\".format(tire)))\r\n",
    "    except:\r\n",
    "        # data hasnt been filtered yet (or doesnt exist)\r\n",
    "        continue\r\n",
    "\r\n",
    "    print(tire)\r\n",
    "\r\n",
    "    run_ids = df[\"RUN\"].unique()\r\n",
    "    initial_df = df[((df[\"velocity\"] == velocity) & (df[\"pressure\"] == pressure) & (df[\"camber\"] == camber) & (df[\"RUN\"] == run_ids[0]))]\r\n",
    "    initial_mus = get_normal_mus(initial_df, load_lateral, SA_cutoff, \"SA\", \"NFY\")\r\n",
    "    tire_coeffs[tire][\"initial_default\"][\"lateral_mus\"] = initial_mus\r\n",
    "\r\n",
    "    # find if there is an post sweep\r\n",
    "    if len(run_ids) > 1:\r\n",
    "        post_df = df[((df[\"velocity\"] == velocity) & (df[\"pressure\"] == pressure) & (df[\"camber\"] == camber) & (df[\"RUN\"] == run_ids[1]))]\r\n",
    "        post_mus = get_normal_mus(initial_df, load_lateral, SA_cutoff, \"SA\", \"NFY\")\r\n",
    "        tire_coeffs[tire][\"post_default\"][\"lateral_mus\"] = post_mus"
   ],
   "outputs": [
    {
     "output_type": "stream",
     "name": "stdout",
     "text": [
      "r25b_16x7-5_10x8\n",
      "r25b_18x6_10x7\n",
      "r25b_18x6_10x6\n",
      "r25b_16x6_10x7\n",
      "r25b_16x6_10x6\n",
      "r25b_18x7-5_10x8\n",
      "r25b_18x7-5_10x7\n",
      "LCO_18x6_10x7\n",
      "LCO_18x6_10x6\n"
     ]
    }
   ],
   "metadata": {}
  },
  {
   "cell_type": "code",
   "execution_count": 51,
   "source": [
    "### LONG CALCS ###\r\n",
    "for tire in tires:\r\n",
    "    try:\r\n",
    "        df = data_helpers.import_data(sio.loadmat(\"../tire_data/processed_data/braking_hoosier_{0}.mat\".format(tire)))\r\n",
    "    except:\r\n",
    "        # data not filtered / doesnt exist\r\n",
    "        continue\r\n",
    "\r\n",
    "    print(tire)\r\n",
    "\r\n",
    "    run_ids = df[\"RUN\"].unique()\r\n",
    "    initial_df = df[((df[\"slip\"] == long_slip_angle) & (df[\"pressure\"] == pressure) & (df[\"camber\"] == camber) & (df[\"RUN\"] == run_ids[0]))]\r\n",
    "    initial_mus = get_normal_mus(initial_df, load_long, SR_cutoff, \"SL\", \"NFX\")\r\n",
    "    tire_coeffs[tire][\"initial_default\"][\"long_mus\"] = initial_mus\r\n",
    "\r\n",
    "    # find if there is an post sweep\r\n",
    "    if len(run_ids) > 1:\r\n",
    "        post_df = df[((df[\"slip\"] == long_slip_angle) & (df[\"pressure\"] == pressure) & (df[\"camber\"] == camber) & (df[\"RUN\"] == run_ids[1]))]\r\n",
    "        post_mus = get_normal_mus(initial_df, load_long, SR_cutoff, \"SL\", \"NFX\")\r\n",
    "        tire_coeffs[tire][\"post_default\"][\"long_mus\"] = post_mus"
   ],
   "outputs": [
    {
     "output_type": "stream",
     "name": "stdout",
     "text": [
      "r25b_18x6_10x7\n",
      "r25b_18x6_10x6\n",
      "r25b_18x7-5_10x8\n",
      "r25b_18x7-5_10x7\n",
      "LCO_18x6_10x7\n",
      "LCO_18x6_10x6\n"
     ]
    }
   ],
   "metadata": {}
  },
  {
   "cell_type": "code",
   "execution_count": 52,
   "source": [
    "for name,data in tire_coeffs.items():\r\n",
    "    if len(data[\"initial_default\"][\"lateral_mus\"]) > 0 and len(data[\"initial_default\"][\"long_mus\"]) > 0 :\r\n",
    "        la_mu = data[\"initial_default\"][\"lateral_mus\"][:3] + [data[\"initial_default\"][\"lateral_mus\"][4]]\r\n",
    "        lo_mu = data[\"initial_default\"][\"long_mus\"]\r\n",
    "        plt.scatter(la_mu, lo_mu, label = name)\r\n",
    "plt.legend()\r\n",
    "plt.xlabel(\"Lateral MU\")\r\n",
    "plt.ylabel(\"Long MU\")\r\n",
    "plt.title(\"Long MU vs Lateral MU\")"
   ],
   "outputs": [
    {
     "output_type": "execute_result",
     "data": {
      "text/plain": [
       "Text(0.5, 1.0, 'Long MU vs Lateral MU')"
      ]
     },
     "metadata": {},
     "execution_count": 52
    },
    {
     "output_type": "display_data",
     "data": {
      "image/png": "[encoded data removed]",
      "text/plain": [
       "<Figure size 432x288 with 1 Axes>"
      ]
     },
     "metadata": {
      "needs_background": "light"
     }
    }
   ],
   "metadata": {}
  }
 ],
 "metadata": {
  "orig_nbformat": 4,
  "language_info": {
   "name": "python",
   "version": "3.7.4",
   "mimetype": "text/x-python",
   "codemirror_mode": {
    "name": "ipython",
    "version": 3
   },
   "pygments_lexer": "ipython3",
   "nbconvert_exporter": "python",
   "file_extension": ".py"
  },
  "kernelspec": {
   "name": "python3",
   "display_name": "Python 3.7.4 64-bit"
  },
  "interpreter": {
   "hash": "7aab9084ceaadec9751c46267bb0962ae9717eebe939ec4dca00e63ab65e0fb6"
  }
 },
 "nbformat": 4,
 "nbformat_minor": 2
}